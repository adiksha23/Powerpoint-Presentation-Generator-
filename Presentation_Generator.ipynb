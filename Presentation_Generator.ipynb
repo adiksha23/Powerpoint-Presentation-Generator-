{
 "cells": [
  {
   "cell_type": "code",
   "execution_count": 1,
   "id": "c29e3291-c4c6-4282-854f-8ebbd10a1932",
   "metadata": {},
   "outputs": [],
   "source": [
    "import openai, json"
   ]
  },
  {
   "cell_type": "code",
   "execution_count": 2,
   "id": "f6d40c26-5ba7-47de-8f43-5d5f393b5e2a",
   "metadata": {},
   "outputs": [],
   "source": [
    "from pptx import Presentation"
   ]
  },
  {
   "cell_type": "code",
   "execution_count": 4,
   "id": "ad8b1f66-fa33-4889-acea-5062256f7fcd",
   "metadata": {},
   "outputs": [
    {
     "name": "stdout",
     "output_type": "stream",
     "text": [
      "What do you want to make a presentation about? climate change\n"
     ]
    }
   ],
   "source": [
    "presentation_title = input('What do you want to make a presentation about?')"
   ]
  },
  {
   "cell_type": "code",
   "execution_count": 5,
   "id": "f5de5fbc-a46f-49ed-8f49-9508cda591f9",
   "metadata": {},
   "outputs": [],
   "source": [
    "query_json = \"\"\"{\n",
    "    \"input_text\": \"[[QUERY]]\",\n",
    "    \"output_format\": \"json\",\n",
    "    \"json_structure\": {\n",
    "        \"slides\" : \"{{presentation_slides}}\"\n",
    "        }\n",
    "        }\"\"\""
   ]
  },
  {
   "cell_type": "code",
   "execution_count": 6,
   "id": "78ceb5b4-fe73-45cf-a6ff-ebd34fcb2088",
   "metadata": {},
   "outputs": [
    {
     "data": {
      "text/plain": [
       "'You are a powerpoint presentation specialist, skilled in creating clear,consise, and engaging slide content. Your task is to generate content for a presentation about climate changeEach slide must have a {{header}} and {{content}}. Return as JSON array, where each object in the array represents a slide. Do not include any introductory text or explanation outside JSON. For each slide, include: a header: the title of the slide, and content: An array of bullet points or paragraphs for the main text. Each bullet point must be concise. Limit each slide to a maximum of 5 bullet points. The first slide must be a title slide with a subtitle field'"
      ]
     },
     "execution_count": 6,
     "metadata": {},
     "output_type": "execute_result"
    }
   ],
   "source": [
    "question = \"You are a powerpoint presentation specialist, skilled in creating clear,consise, and engaging slide content. Your task is to generate content for a presentation about \"+ presentation_title + \"Each slide must have a {{header}} and {{content}}. Return as JSON array, where each object in the array represents a slide. Do not include any introductory text or explanation outside JSON. \" + \"For each slide, include: a header: the title of the slide, and content: An array of bullet points or paragraphs for the main text. Each bullet point must be concise. Limit each slide to a maximum of 5 bullet points. The first slide must be a title slide with a subtitle field\"\n",
    "question"
   ]
  },
  {
   "cell_type": "code",
   "execution_count": 7,
   "id": "08543e75-0214-4de8-9f84-0c602c9f653b",
   "metadata": {},
   "outputs": [
    {
     "name": "stdout",
     "output_type": "stream",
     "text": [
      "{\n",
      "    \"input_text\": \"You are a powerpoint presentation specialist, skilled in creating clear,consise, and engaging slide content. Your task is to generate content for a presentation about climate changeEach slide must have a {{header}} and {{content}}. Return as JSON array, where each object in the array represents a slide. Do not include any introductory text or explanation outside JSON. For each slide, include: a header: the title of the slide, and content: An array of bullet points or paragraphs for the main text. Each bullet point must be concise. Limit each slide to a maximum of 5 bullet points. The first slide must be a title slide with a subtitle field\",\n",
      "    \"output_format\": \"json\",\n",
      "    \"json_structure\": {\n",
      "        \"slides\" : \"{{presentation_slides}}\"\n",
      "        }\n",
      "        }\n"
     ]
    }
   ],
   "source": [
    "prompt = query_json.replace(\"[[QUERY]]\",question)\n",
    "print(prompt)"
   ]
  },
  {
   "cell_type": "code",
   "execution_count": 8,
   "id": "c8b18e07-9a2e-4c47-9cef-75f043e132b9",
   "metadata": {},
   "outputs": [],
   "source": [
    "from openai import OpenAI"
   ]
  },
  {
   "cell_type": "code",
   "execution_count": null,
   "id": "89691f9d-2bb5-4dca-89c1-ad285f9d26bf",
   "metadata": {},
   "outputs": [],
   "source": [
    "client = OpenAI(base_url=\"https://openrouter.ai/api/v1\", api_key = \"YOUR API KEY\")\n",
    "completion = client.chat.completions.create(\n",
    "    model=\"gpt-3.5-turbo\",\n",
    "    messages=[\n",
    "        {\"role\": \"user\", \"content\": prompt}\n",
    "    ]\n",
    ")\n"
   ]
  },
  {
   "cell_type": "code",
   "execution_count": 10,
   "id": "af963ec2-2f38-45d9-97ba-61150672a6d6",
   "metadata": {},
   "outputs": [
    {
     "name": "stdout",
     "output_type": "stream",
     "text": [
      "{\n",
      "    \"slides\": [\n",
      "        {\n",
      "            \"header\": \"Title Slide\",\n",
      "            \"content\": [\n",
      "                \"Introduction to Climate Change\"\n",
      "            ]\n",
      "        },\n",
      "        {\n",
      "            \"header\": \"What is Climate Change?\",\n",
      "            \"content\": [\n",
      "                \"Refers to long-term changes in temperatures and weather patterns\",\n",
      "                \"Caused by human activities such as burning fossil fuels and deforestation\",\n",
      "                \"Leads to global warming and severe weather events\"\n",
      "            ]\n",
      "        },\n",
      "        {\n",
      "            \"header\": \"Effects of Climate Change\",\n",
      "            \"content\": [\n",
      "                \"Rising sea levels due to melting ice caps\",\n",
      "                \"Increased frequency and intensity of natural disasters\",\n",
      "                \"Disruption of ecosystems and loss of biodiversity\"\n",
      "            ]\n",
      "        },\n",
      "        {\n",
      "            \"header\": \"Mitigation Strategies\",\n",
      "            \"content\": [\n",
      "                \"Transition to renewable energy sources\",\n",
      "                \"Reducing carbon emissions through regulations and policies\",\n",
      "                \"Adapting infrastructure to be more resilient to climate impacts\"\n",
      "            ]\n",
      "        },\n",
      "        {\n",
      "            \"header\": \"Call to Action\",\n",
      "            \"content\": [\n",
      "                \"Raise awareness and educate others about climate change\",\n",
      "                \"Support organizations and initiatives working towards sustainable solutions\",\n",
      "                \"Take individual actions to reduce carbon footprint\"\n",
      "            ]\n",
      "        }\n",
      "    ]\n",
      "}\n"
     ]
    }
   ],
   "source": [
    "response = completion.choices[0].message.content\n",
    "\n",
    "print(response)"
   ]
  },
  {
   "cell_type": "code",
   "execution_count": 11,
   "id": "e8e83822-9855-41b2-b0bf-8a60db5c99c6",
   "metadata": {},
   "outputs": [],
   "source": [
    "r = json.loads(response)"
   ]
  },
  {
   "cell_type": "code",
   "execution_count": 12,
   "id": "e106f51c-a3c6-4dbd-b8a9-6b3b8c93fae1",
   "metadata": {},
   "outputs": [],
   "source": [
    "slide_data = r[\"slides\"]"
   ]
  },
  {
   "cell_type": "code",
   "execution_count": 13,
   "id": "7aff1240-afdc-4f07-9b8b-1fa98051c10b",
   "metadata": {},
   "outputs": [],
   "source": [
    "prs = Presentation()"
   ]
  },
  {
   "cell_type": "code",
   "execution_count": 14,
   "id": "772590d9-35e9-494e-afcf-3244c1853c0c",
   "metadata": {},
   "outputs": [],
   "source": [
    "for slide in slide_data:\n",
    "    slide_layout = prs.slide_layouts[1]\n",
    "    new_slide = prs.slides.add_slide(slide_layout)\n",
    "    \n",
    "    if slide['header']:\n",
    "        title = new_slide.shapes.title\n",
    "        title.text = slide['header']\n",
    "    \n",
    "    if slide['content']:\n",
    "        shapes = new_slide.shapes\n",
    "        body_shape = shapes.placeholders[1]\n",
    "        tf = body_shape.text_frame\n",
    "        #tf.text = slide['content']\n",
    "        #tf.fit_text(font_family=\"Arial\", max_size=18, bold=True)\n",
    "        for item in slide['content']:\n",
    "            p = tf.add_paragraph()\n",
    "            p.text = str(item)\n",
    "            p.level = 0  # 0 = top-level bullet, 1 = sub-bullet, etc.\n",
    "\n",
    "prs.save(\"output.pptx\")"
   ]
  },
  {
   "cell_type": "code",
   "execution_count": null,
   "id": "3feb938b-a6a7-4c2e-b69e-21207e5176fe",
   "metadata": {},
   "outputs": [],
   "source": []
  },
  {
   "cell_type": "code",
   "execution_count": null,
   "id": "54879cea-0799-4d7a-a2c0-8d97edb49642",
   "metadata": {},
   "outputs": [],
   "source": []
  }
 ],
 "metadata": {
  "kernelspec": {
   "display_name": "Python 3 (ipykernel)",
   "language": "python",
   "name": "python3"
  },
  "language_info": {
   "codemirror_mode": {
    "name": "ipython",
    "version": 3
   },
   "file_extension": ".py",
   "mimetype": "text/x-python",
   "name": "python",
   "nbconvert_exporter": "python",
   "pygments_lexer": "ipython3",
   "version": "3.13.7"
  }
 },
 "nbformat": 4,
 "nbformat_minor": 5
}
